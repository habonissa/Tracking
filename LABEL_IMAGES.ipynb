{
  "cells": [
    {
      "cell_type": "code",
      "execution_count": 1,
      "metadata": {
        "colab": {
          "base_uri": "https://localhost:8080/"
        },
        "id": "HEkzqtyI6zd_",
        "outputId": "57a5fd38-64b2-4099-9b41-b5c2c10a0f74"
      },
      "outputs": [
        {
          "output_type": "stream",
          "name": "stdout",
          "text": [
            "Drive already mounted at /content/gdrive; to attempt to forcibly remount, call drive.mount(\"/content/gdrive\", force_remount=True).\n"
          ]
        }
      ],
      "source": [
        "#MOUNT GOOGLE DRIVE\n",
        "#if your datasets are not stored in gdrive, skip this\n",
        "from google.colab import drive\n",
        "drive.mount('/content/gdrive')"
      ]
    },
    {
      "cell_type": "code",
      "execution_count": 2,
      "metadata": {
        "id": "c094C6v9SSHP"
      },
      "outputs": [],
      "source": [
        "#IMPORT REQUIRED LIBRARIES\n",
        "import cv2\n",
        "from google.colab.patches import cv2_imshow\n",
        "import numpy as np\n",
        "import pandas as pd"
      ]
    },
    {
      "cell_type": "code",
      "execution_count": 5,
      "metadata": {
        "id": "0mh1Mc_u7HYh"
      },
      "outputs": [],
      "source": [
        "#EDIT: SPECIFY INPUT IMAGE NUMBER FOR LATER NAMING\n",
        "imgNum = \"2\" #edit this to specify number of original image that you want to label\n",
        "imgPath = 'gdrive/MyDrive/YOLOShared/Original/' + imgNum + \".png\""
      ]
    },
    {
      "cell_type": "code",
      "execution_count": 6,
      "metadata": {
        "colab": {
          "base_uri": "https://localhost:8080/",
          "height": 143
        },
        "id": "pKTnltI2StAG",
        "outputId": "365dade9-34c2-492b-b05f-8f835c1fe2bb"
      },
      "outputs": [
        {
          "output_type": "display_data",
          "data": {
            "text/plain": [
              "<PIL.Image.Image image mode=RGB size=205x126>"
            ],
            "image/png": "[encoded data removed]"
          },
          "metadata": {}
        }
      ],
      "source": [
        "#SHOW IMAGE\n",
        "imgArray = cv2.imread(imgPath)\n",
        "cv2.imwrite('gdrive/MyDrive/YOLOShared/Export/image' + imgNum + '.jpg',imgArray) #save raw img to new extension and folder after reading it in\n",
        "imgArraycp = cv2.imread(imgPath)\n",
        "img = cv2_imshow(imgArray)"
      ]
    },
    {
      "cell_type": "code",
      "execution_count": 7,
      "metadata": {
        "colab": {
          "base_uri": "https://localhost:8080/",
          "height": 143
        },
        "id": "3peEZjIHTEan",
        "outputId": "8823045d-95e9-43d8-e8d7-fb3a5f0082dd"
      },
      "outputs": [
        {
          "output_type": "display_data",
          "data": {
            "text/plain": [
              "<PIL.Image.Image image mode=RGB size=205x126>"
            ],
            "image/png": "[encoded data removed]"
          },
          "metadata": {}
        }
      ],
      "source": [
        "#CREATE A GRID ABOVE IMAGE\n",
        "height,width,channels = imgArray.shape\n",
        "\n",
        "# Define the number of rows and columns for the grid\n",
        "num_rows, num_cols = 15, 15\n",
        "\n",
        "# Calculate the spacing between grid lines\n",
        "row_spacing = height // num_rows\n",
        "col_spacing = width // num_cols\n",
        "\n",
        "# Draw the grid lines on the image\n",
        "for i in range(1, num_rows):\n",
        "    y = i * row_spacing\n",
        "    cv2.line(imgArray, (0, y), (width, y), (0, 255, 0), 1)\n",
        "\n",
        "for j in range(1, num_cols):\n",
        "    x = j * col_spacing\n",
        "    cv2.line(imgArray, (x, 0), (x, height), (0, 255, 0), 1)\n",
        "\n",
        "# Label each grid cell in ascending order from top left to bottom right\n",
        "label = 1\n",
        "for i in range(num_rows):\n",
        "    for j in range(num_cols):\n",
        "        x_center = j * col_spacing + col_spacing // 2\n",
        "        y_center = i * row_spacing + row_spacing // 2\n",
        "        cv2.putText(imgArray, str(label), (x_center - 5, y_center + 5),\n",
        "                    cv2.FONT_HERSHEY_SIMPLEX, 0.5, (0, 0, 255), 1)\n",
        "        label += 1\n",
        "\n",
        "# Display the image with the grid overlay\n",
        "cv2_imshow(imgArray)\n",
        "cv2.waitKey(0)\n",
        "cv2.destroyAllWindows()"
      ]
    },
    {
      "cell_type": "code",
      "source": [
        "#EDIT: Specify where to label\n",
        "grid_start = np.array([10,10,92,139,151,184,197])\n",
        "grid_end = np.array([73,134,108,155,182,201,213])\n",
        "label=['dam','nest']\n",
        "diff = len(grid_start) - len(label)\n",
        "for i in range(0,diff):\n",
        "  label.append('pups')"
      ],
      "metadata": {
        "id": "evS7LmD9tarm"
      },
      "execution_count": 8,
      "outputs": []
    },
    {
      "cell_type": "code",
      "execution_count": 9,
      "metadata": {
        "id": "DrXQhcgHym_3"
      },
      "outputs": [],
      "source": [
        "#USE GRID TO CREATE BOUNDING BOXES\n",
        "def annotate_with_bbox(labels, grid_starts, grid_ends):\n",
        "    global yolo\n",
        "    yolo = []\n",
        "    for label, grid_start, grid_end in zip(labels, grid_starts, grid_ends):\n",
        "        # Ensure the grid numbers are within valid range\n",
        "        grid_start = max(0, min(grid_start, num_rows * num_cols - 1)) -1\n",
        "        grid_end = max(0, min(grid_end, num_rows * num_cols - 1)) -1\n",
        "\n",
        "        # Calculate the row and column indices from the grid numbers\n",
        "        start_row, start_col = divmod(grid_start, num_cols)\n",
        "        end_row, end_col = divmod(grid_end, num_cols)\n",
        "\n",
        "        # Convert grid indices to pixel coordinates\n",
        "        top_left_x = start_col * col_spacing\n",
        "        top_left_y = start_row * row_spacing\n",
        "        bottom_right_x = (end_col + 1) * col_spacing\n",
        "        bottom_right_y = (end_row + 1) * row_spacing\n",
        "\n",
        "        # Draw bounding box and label on the image\n",
        "        cv2.rectangle(imgArraycp, (top_left_x, top_left_y), (bottom_right_x, bottom_right_y), (255, 0, 0), 2)\n",
        "        text = f'{label}'\n",
        "        cv2.putText(imgArraycp, text, (top_left_x, top_left_y - 10), cv2.FONT_HERSHEY_SIMPLEX, 0.5, (255, 0, 0), 1)\n",
        "\n",
        "        # Convert to YOLO coordinates\n",
        "        image_width, image_height = width, height\n",
        "        center_x = (top_left_x + bottom_right_x) / (2 * image_width)\n",
        "        center_y = (top_left_y + bottom_right_y) / (2 * image_height)\n",
        "        bbox_width = (bottom_right_x - top_left_x) / image_width\n",
        "        bbox_height = (bottom_right_y - top_left_y) / image_height\n",
        "        yolo.append([label,center_x,center_y,bbox_width,bbox_height])\n",
        "  # Display the image with the bounding boxes and labels\n",
        "    cv2_imshow(imgArraycp)\n",
        "    cv2.imwrite('gdrive/MyDrive/YOLOShared/BoundingBoxes/image' + imgNum + '.jpg',imgArraycp) #save raw img to new extension and folder after reading it in\n",
        "    cv2.waitKey(0)\n",
        "    cv2.destroyAllWindows()"
      ]
    },
    {
      "cell_type": "code",
      "execution_count": 10,
      "metadata": {
        "colab": {
          "base_uri": "https://localhost:8080/",
          "height": 143
        },
        "id": "LKozpLqDzNN6",
        "outputId": "6d27043f-b208-4a11-b035-635811b68414"
      },
      "outputs": [
        {
          "output_type": "display_data",
          "data": {
            "text/plain": [
              "<PIL.Image.Image image mode=RGB size=205x126>"
            ],
            "image/png": "[encoded data removed]"
          },
          "metadata": {}
        }
      ],
      "source": [
        "annotate_with_bbox(label,grid_start,grid_end)"
      ]
    },
    {
      "cell_type": "code",
      "execution_count": 11,
      "metadata": {
        "id": "NcQjQUoEzNQQ"
      },
      "outputs": [],
      "source": [
        "#EXPORT BOUNDING BOX INFO\n",
        "yolo = pd.DataFrame(yolo)\n",
        "yolo = yolo.replace('dam','0')\n",
        "yolo = yolo.replace('pup','1')\n",
        "#yolo #view yolo format\n",
        "yolo.to_csv('gdrive/MyDrive/YOLOShared/YOLOreadable/image' + imgNum + '.txt', sep='\\t', index=False,header=False) #save .txt"
      ]
    },
    {
      "cell_type": "markdown",
      "metadata": {
        "id": "Ed34E68zucba"
      },
      "source": [
        "TO EXPORT BOUNDING BOX TO YOLO, YOU NEED TO EXPORT:\n",
        "1) an image file ex: 'image1.jpg'\n",
        "2) a corresponding .txt file with the same name ex: 'image1.txt'.\n",
        "- The .txt file should have a new row for each class, where class names are indices and values across rows contain info about box. For example:\n",
        "0 0.5 0.5 0.7 0.3\n",
        "1 0.3 0.2 0.4 0.4\n",
        "1 0.2 0.3 0.8 0.2\n",
        "Where row 1 is class dam (the 0) with a bounding box with location at the image center (0.5,0.5) with box height 0.7 and width 0.3 (both relative to image size)\n",
        "Rows 2 and 3 are are class 1, which in this case is pups\n"
      ]
    }
  ],
  "metadata": {
    "colab": {
      "provenance": []
    },
    "kernelspec": {
      "display_name": "Python 3",
      "name": "python3"
    },
    "language_info": {
      "name": "python"
    }
  },
  "nbformat": 4,
  "nbformat_minor": 0
}